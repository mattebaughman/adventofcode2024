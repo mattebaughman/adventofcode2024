{
 "cells": [
  {
   "cell_type": "markdown",
   "id": "3702f276-0601-4998-bb19-7665035629ce",
   "metadata": {},
   "source": [
    "### Part 1 ###"
   ]
  },
  {
   "cell_type": "code",
   "execution_count": 1,
   "id": "12a3f990-6f9c-4506-b411-ba14007344fe",
   "metadata": {},
   "outputs": [],
   "source": [
    "import numpy as np"
   ]
  },
  {
   "cell_type": "code",
   "execution_count": 2,
   "id": "64eb3184-1949-47d8-8351-a4f1a9df2e22",
   "metadata": {},
   "outputs": [],
   "source": [
    "with open('input.txt','r') as f:\n",
    "    data = f.read()"
   ]
  },
  {
   "cell_type": "code",
   "execution_count": 3,
   "id": "3a0286e9-f945-43ac-b6e1-15fecb3a1042",
   "metadata": {},
   "outputs": [],
   "source": [
    "data = data.split('\\n')\n",
    "del data[-1]"
   ]
  },
  {
   "cell_type": "code",
   "execution_count": 4,
   "id": "5d43fadd-e7fd-4879-85d9-e6b2302d6cc2",
   "metadata": {},
   "outputs": [],
   "source": [
    "total_xmas = 0"
   ]
  },
  {
   "cell_type": "code",
   "execution_count": 5,
   "id": "79e4c306-034d-4daf-9573-902e26988730",
   "metadata": {},
   "outputs": [],
   "source": [
    "def get_forward_backward(string):\n",
    "    tot = 0\n",
    "    tot+=string.count('XMAS')\n",
    "    tot+=string.count('SAMX')\n",
    "    return(tot)"
   ]
  },
  {
   "cell_type": "code",
   "execution_count": 6,
   "id": "708107ba-6053-434b-985c-5dccebe590ce",
   "metadata": {},
   "outputs": [],
   "source": [
    "for d in data:\n",
    "    total_xmas+=get_forward_backward(d)"
   ]
  },
  {
   "cell_type": "code",
   "execution_count": 7,
   "id": "fd262af4-02e2-4e82-9b30-4e2c538c47d0",
   "metadata": {},
   "outputs": [],
   "source": [
    "def get_vertical(data):\n",
    "    tot = 0\n",
    "    data1 = np.array([np.array([k for k in d]) for d in data])\n",
    "    transposed_data = [''.join([d for d in k]) for k in data1.T]\n",
    "    for d in transposed_data:\n",
    "        tot+=get_forward_backward(d)\n",
    "    return(tot)"
   ]
  },
  {
   "cell_type": "code",
   "execution_count": 8,
   "id": "a991432a-a604-4cf1-9f68-c1ba2877357d",
   "metadata": {},
   "outputs": [],
   "source": [
    "total_xmas+=get_vertical(data)"
   ]
  },
  {
   "cell_type": "code",
   "execution_count": 9,
   "id": "4c161453-e6f0-42c8-9199-a9b160b7b59a",
   "metadata": {},
   "outputs": [],
   "source": [
    "def get_diagonal(data,start_row,start_ind):\n",
    "    tot=0\n",
    "    #up and to the left\n",
    "    if start_row>=3 and start_ind>=3:\n",
    "        try:\n",
    "            if all([data[start_row][start_ind]=='X',\n",
    "                   data[start_row-1][start_ind-1]=='M',\n",
    "                   data[start_row-2][start_ind-2]=='A',\n",
    "                   data[start_row-3][start_ind-3]=='S']):\n",
    "                tot+=1\n",
    "        except:\n",
    "            1+1\n",
    "    #up and to the right\n",
    "    if start_row>=3 and start_ind<=(len(data[0])-3):\n",
    "        try:\n",
    "            if all([data[start_row][start_ind]=='X',\n",
    "                   data[start_row-1][start_ind+1]=='M',\n",
    "                   data[start_row-2][start_ind+2]=='A',\n",
    "                   data[start_row-3][start_ind+3]=='S']):\n",
    "                tot+=1\n",
    "    \n",
    "        except:\n",
    "            1+1\n",
    "    #down and to the right\n",
    "    if start_row<=(len(data)-3) and start_ind<=(len(data[0])-3):\n",
    "        try:\n",
    "            if all([data[start_row][start_ind]=='X',\n",
    "                   data[start_row+1][start_ind+1]=='M',\n",
    "                   data[start_row+2][start_ind+2]=='A',\n",
    "                   data[start_row+3][start_ind+3]=='S']):\n",
    "                tot+=1\n",
    "        except:\n",
    "            1+1\n",
    "    #down and to the left\n",
    "    if start_row<=(len(data)-3) and start_ind>=3:\n",
    "        try:\n",
    "            if all([data[start_row][start_ind]=='X',\n",
    "                   data[start_row+1][start_ind-1]=='M',\n",
    "                   data[start_row+2][start_ind-2]=='A',\n",
    "                   data[start_row+3][start_ind-3]=='S']):\n",
    "                tot+=1\n",
    "        except:\n",
    "            1+1\n",
    "    return(tot)"
   ]
  },
  {
   "cell_type": "code",
   "execution_count": 10,
   "id": "81bfb56a-e2d7-411b-9bed-0a4c6f515bd1",
   "metadata": {},
   "outputs": [],
   "source": [
    "dia_tot=0\n",
    "for i in range(len(data)):\n",
    "    for j in range(len(data[0])):\n",
    "        dia_tot+=get_diagonal(data,i,j)"
   ]
  },
  {
   "cell_type": "code",
   "execution_count": 11,
   "id": "fb97a07a-614f-4a66-8030-b02216d1f880",
   "metadata": {},
   "outputs": [],
   "source": [
    "total_xmas+=dia_tot"
   ]
  },
  {
   "cell_type": "code",
   "execution_count": 12,
   "id": "1766272c-9fcd-4d59-9dc0-14a8373f94cb",
   "metadata": {},
   "outputs": [
    {
     "name": "stdout",
     "output_type": "stream",
     "text": [
      "2514\n"
     ]
    }
   ],
   "source": [
    "print(total_xmas)"
   ]
  },
  {
   "cell_type": "markdown",
   "id": "9dd1c278-acfc-46f4-adc9-eaa07c1345cd",
   "metadata": {},
   "source": [
    "### Part 2 ###"
   ]
  },
  {
   "cell_type": "code",
   "execution_count": 17,
   "id": "07a1f700-99ba-4e2b-93d7-131bec824919",
   "metadata": {},
   "outputs": [],
   "source": [
    "def check_corners(start_row,start_ind):\n",
    "    corners = [data[start_row-1][start_ind-1],data[start_row-1][start_ind+1],data[start_row+1][start_ind-1],data[start_row+1][start_ind+1]]\n",
    "    good_confs = [['M','M','S','S'],['S','S','M','M'],['M','S','M','S'],['S','M','S','M']]\n",
    "    if corners in good_confs:\n",
    "        return(True)\n",
    "    else:\n",
    "        return(False)"
   ]
  },
  {
   "cell_type": "code",
   "execution_count": 18,
   "id": "22a1c3b1-682c-45e7-9a14-bae12212d85b",
   "metadata": {},
   "outputs": [
    {
     "name": "stdout",
     "output_type": "stream",
     "text": [
      "1888\n"
     ]
    }
   ],
   "source": [
    "total_x_mas=0\n",
    "for i in range(1,len(data)-1):\n",
    "    for j in range(1,len(data[0])-1):\n",
    "        if data[i][j]=='A':\n",
    "            if check_corners(i,j):\n",
    "                total_x_mas+=1\n",
    "print(total_x_mas)"
   ]
  },
  {
   "cell_type": "code",
   "execution_count": null,
   "id": "9334fce5-680b-4920-8aa8-282d5e4a46dd",
   "metadata": {},
   "outputs": [],
   "source": []
  }
 ],
 "metadata": {
  "kernelspec": {
   "display_name": "Python 3 (ipykernel)",
   "language": "python",
   "name": "python3"
  },
  "language_info": {
   "codemirror_mode": {
    "name": "ipython",
    "version": 3
   },
   "file_extension": ".py",
   "mimetype": "text/x-python",
   "name": "python",
   "nbconvert_exporter": "python",
   "pygments_lexer": "ipython3",
   "version": "3.12.2"
  }
 },
 "nbformat": 4,
 "nbformat_minor": 5
}
