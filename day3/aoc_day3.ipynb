{
 "cells": [
  {
   "cell_type": "markdown",
   "id": "7e2ff51c-3581-4ba1-a892-e58ff9e9690b",
   "metadata": {},
   "source": [
    "### Part 1 ###"
   ]
  },
  {
   "cell_type": "code",
   "execution_count": 23,
   "id": "d13aa33b-a1cd-44fb-b8e7-04e8db5ac85e",
   "metadata": {},
   "outputs": [],
   "source": [
    "import re\n",
    "import numpy as np"
   ]
  },
  {
   "cell_type": "code",
   "execution_count": 1,
   "id": "6e593b05-0a84-4cef-9444-bee16d4aebce",
   "metadata": {},
   "outputs": [],
   "source": [
    "with open('input.txt','r') as f:\n",
    "    data = f.read()"
   ]
  },
  {
   "cell_type": "code",
   "execution_count": 47,
   "id": "d97cbb9f-a8f4-4a2e-81b8-f4bf206c11e5",
   "metadata": {},
   "outputs": [],
   "source": [
    "### courtesy of gemini\n",
    "def find_all_occurrences(string, substring):\n",
    "    locations = []\n",
    "    start = 0\n",
    "    while True:\n",
    "        start = string.find(substring, start)\n",
    "        if start == -1:\n",
    "            break\n",
    "        locations.append(start)\n",
    "        start += 1\n",
    "    return locations"
   ]
  },
  {
   "cell_type": "code",
   "execution_count": 48,
   "id": "08e195bc-c477-4cf0-97b9-5e5b20dd44b3",
   "metadata": {},
   "outputs": [],
   "source": [
    "inds = find_all_occurrences(data,'mul(')"
   ]
  },
  {
   "cell_type": "code",
   "execution_count": 49,
   "id": "f1a0eae1-95be-4928-8dc7-1e13611a8917",
   "metadata": {},
   "outputs": [],
   "source": [
    "def get_numbers(index):\n",
    "    sub=data.find(')',index)\n",
    "    return(data[index:sub+1])"
   ]
  },
  {
   "cell_type": "code",
   "execution_count": 50,
   "id": "af9acdd5-0da3-4be7-92be-9138767b2483",
   "metadata": {},
   "outputs": [],
   "source": [
    "tot = 0\n",
    "for i in range(len(inds)):\n",
    "    k = get_numbers(inds[i])\n",
    "    try:\n",
    "        sides = k.split(',')\n",
    "        num1 = sides[0].split('(')[1]\n",
    "        num2 = sides[1].split(')')[0]\n",
    "        tot+=(int(num1)*int(num2))\n",
    "    except:\n",
    "        pass"
   ]
  },
  {
   "cell_type": "code",
   "execution_count": 51,
   "id": "2b8ff5d2-43ca-4bbb-b053-485b5cdbc879",
   "metadata": {},
   "outputs": [
    {
     "data": {
      "text/plain": [
       "167090022"
      ]
     },
     "execution_count": 51,
     "metadata": {},
     "output_type": "execute_result"
    }
   ],
   "source": [
    "print(tot)"
   ]
  },
  {
   "cell_type": "markdown",
   "id": "161850e5-42da-4f00-a04c-c89acc95e268",
   "metadata": {},
   "source": [
    "### Part 2 ###"
   ]
  },
  {
   "cell_type": "code",
   "execution_count": 53,
   "id": "730322d6-5144-43a7-af45-d9f67aff057e",
   "metadata": {},
   "outputs": [],
   "source": [
    "start_inds = find_all_occurrences(data,'do()')\n",
    "stop_inds = find_all_occurrences(data,\"don't()\")"
   ]
  },
  {
   "cell_type": "code",
   "execution_count": 54,
   "id": "4a566edc-586f-44c8-b838-0ca6d6192c06",
   "metadata": {},
   "outputs": [],
   "source": [
    "on = True"
   ]
  },
  {
   "cell_type": "code",
   "execution_count": 59,
   "id": "d56d8787-25f5-4e6d-981b-9df41e81d88b",
   "metadata": {},
   "outputs": [],
   "source": [
    "tot=0\n",
    "for i in range(len(data)):\n",
    "    if (i in inds) and on:\n",
    "        k = get_numbers(i)\n",
    "        try:\n",
    "            sides = k.split(',')\n",
    "            num1 = sides[0].split('(')[1]\n",
    "            num2 = sides[1].split(')')[0]\n",
    "            tot+=(int(num1)*int(num2))\n",
    "        except:\n",
    "            pass\n",
    "    elif i in start_inds:\n",
    "        on=True\n",
    "    elif i in stop_inds:\n",
    "        on=False\n",
    "    else:\n",
    "        pass"
   ]
  },
  {
   "cell_type": "code",
   "execution_count": 60,
   "id": "98f35841-6047-4601-b641-8c118b4d8c0e",
   "metadata": {},
   "outputs": [
    {
     "name": "stdout",
     "output_type": "stream",
     "text": [
      "89823704\n"
     ]
    }
   ],
   "source": [
    "print(tot)"
   ]
  },
  {
   "cell_type": "code",
   "execution_count": null,
   "id": "d5ba5bcc-b6d4-4804-8e17-706e364117b6",
   "metadata": {},
   "outputs": [],
   "source": []
  }
 ],
 "metadata": {
  "kernelspec": {
   "display_name": "Python 3 (ipykernel)",
   "language": "python",
   "name": "python3"
  },
  "language_info": {
   "codemirror_mode": {
    "name": "ipython",
    "version": 3
   },
   "file_extension": ".py",
   "mimetype": "text/x-python",
   "name": "python",
   "nbconvert_exporter": "python",
   "pygments_lexer": "ipython3",
   "version": "3.12.2"
  }
 },
 "nbformat": 4,
 "nbformat_minor": 5
}
