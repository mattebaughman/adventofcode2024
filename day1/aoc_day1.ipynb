{
 "cells": [
  {
   "cell_type": "markdown",
   "id": "f74bc05e-392b-4085-aff4-fdc9d36ea770",
   "metadata": {},
   "source": [
    "### Part 1 ###"
   ]
  },
  {
   "cell_type": "code",
   "execution_count": null,
   "id": "9bf25a5d-9732-4439-90b5-1e873dd5b06c",
   "metadata": {},
   "outputs": [],
   "source": [
    "import numpy as np"
   ]
  },
  {
   "cell_type": "code",
   "execution_count": 7,
   "id": "d0896d3e-0670-4f3e-999e-b563a76a2584",
   "metadata": {},
   "outputs": [],
   "source": [
    "with open('input.txt','r') as f:\n",
    "    data = f.read()"
   ]
  },
  {
   "cell_type": "code",
   "execution_count": 11,
   "id": "4f04b577-d66d-4548-a6d4-9a620c57bfa7",
   "metadata": {},
   "outputs": [],
   "source": [
    "data = data.split('\\n')"
   ]
  },
  {
   "cell_type": "code",
   "execution_count": 13,
   "id": "ae7ee3bf-fd2f-4fb6-b260-3b05554bd34b",
   "metadata": {},
   "outputs": [],
   "source": [
    "data = [x.split('   ') for x in data]"
   ]
  },
  {
   "cell_type": "code",
   "execution_count": 30,
   "id": "5a45ebee-beea-443d-bbe9-f9551222fb54",
   "metadata": {},
   "outputs": [],
   "source": [
    "del(data[-1])"
   ]
  },
  {
   "cell_type": "code",
   "execution_count": 35,
   "id": "b465e463-c83d-4a01-8e72-67e5f464e88e",
   "metadata": {},
   "outputs": [],
   "source": [
    "data = np.array(data).T"
   ]
  },
  {
   "cell_type": "code",
   "execution_count": 41,
   "id": "0f81e80c-e2f1-4ab7-9c3f-3b0d16c0bb90",
   "metadata": {},
   "outputs": [],
   "source": [
    "data=data.astype('int')"
   ]
  },
  {
   "cell_type": "code",
   "execution_count": 49,
   "id": "f3234b12-af3c-4288-988a-e2b967c12a2d",
   "metadata": {},
   "outputs": [
    {
     "name": "stdout",
     "output_type": "stream",
     "text": [
      "2264607\n"
     ]
    }
   ],
   "source": [
    "print(sum(abs(np.sort(data[0])-np.sort(data[1]))))\n"
   ]
  },
  {
   "cell_type": "markdown",
   "id": "64f4846a-51f4-4f6b-bfec-9306ea375002",
   "metadata": {},
   "source": [
    "### Part 2 ###"
   ]
  },
  {
   "cell_type": "code",
   "execution_count": 55,
   "id": "7136168c-91cd-4858-afd6-960c23279053",
   "metadata": {},
   "outputs": [],
   "source": [
    "similarity_score=0\n",
    "for k in data[0]:\n",
    "    temp_sim = 0\n",
    "    for i in data[1]:\n",
    "        if i==k:\n",
    "            temp_sim+=1\n",
    "    similarity_score+=(k*temp_sim)"
   ]
  },
  {
   "cell_type": "code",
   "execution_count": 56,
   "id": "26a87207-6da7-4348-8662-299c0d8821d7",
   "metadata": {},
   "outputs": [
    {
     "name": "stdout",
     "output_type": "stream",
     "text": [
      "19457120\n"
     ]
    }
   ],
   "source": [
    "print(similarity_score)"
   ]
  },
  {
   "cell_type": "code",
   "execution_count": null,
   "id": "c6c793b1-6508-4ff4-93d8-906b85a372e8",
   "metadata": {},
   "outputs": [],
   "source": []
  }
 ],
 "metadata": {
  "kernelspec": {
   "display_name": "Python 3 (ipykernel)",
   "language": "python",
   "name": "python3"
  },
  "language_info": {
   "codemirror_mode": {
    "name": "ipython",
    "version": 3
   },
   "file_extension": ".py",
   "mimetype": "text/x-python",
   "name": "python",
   "nbconvert_exporter": "python",
   "pygments_lexer": "ipython3",
   "version": "3.12.2"
  }
 },
 "nbformat": 4,
 "nbformat_minor": 5
}
