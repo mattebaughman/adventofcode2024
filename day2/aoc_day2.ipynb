{
 "cells": [
  {
   "cell_type": "markdown",
   "id": "1618f5a5-0de4-40c3-a567-0119b8ee055d",
   "metadata": {},
   "source": [
    "### Part 1 ###"
   ]
  },
  {
   "cell_type": "code",
   "execution_count": 1,
   "id": "c194687f-28c9-40a5-9461-9bf32a8f3baf",
   "metadata": {},
   "outputs": [],
   "source": [
    "with open('input.txt','r') as f:\n",
    "    data = f.read()"
   ]
  },
  {
   "cell_type": "code",
   "execution_count": 3,
   "id": "2e7e44f8-824c-46b5-bef0-7c33434fbf08",
   "metadata": {},
   "outputs": [],
   "source": [
    "data=data.split('\\n')"
   ]
  },
  {
   "cell_type": "code",
   "execution_count": 5,
   "id": "5f6e2761-9f2e-4fa7-a29c-6a0e9afa90f6",
   "metadata": {},
   "outputs": [],
   "source": [
    "data = [x.split(' ') for x in data]["
   ]
  },
  {
   "cell_type": "code",
   "execution_count": 8,
   "id": "ec4c15fa-b148-449e-a96b-a99c1110a7e6",
   "metadata": {},
   "outputs": [],
   "source": [
    "del(data[-1])"
   ]
  },
  {
   "cell_type": "code",
   "execution_count": 9,
   "id": "42df853f-6484-4497-8dcc-87112d3c54b3",
   "metadata": {},
   "outputs": [],
   "source": [
    "data = [[int(x) for x in y] for y in data]"
   ]
  },
  {
   "cell_type": "code",
   "execution_count": 30,
   "id": "bc1241b1-b6dd-4979-8930-aeb9e39a28bc",
   "metadata": {},
   "outputs": [
    {
     "name": "stdout",
     "output_type": "stream",
     "text": [
      "639\n"
     ]
    }
   ],
   "source": [
    "safes = 0\n",
    "for d in data:\n",
    "    good=True\n",
    "    if d!=sorted(d) and d!=sorted(d)[::-1]:\n",
    "        good=False\n",
    "    for k in range(len(d)-1):\n",
    "        if abs(d[k+1]-d[k])>3 or abs(d[k+1]-d[k])<1:\n",
    "            good=False\n",
    "    if good:\n",
    "        safes+=1\n",
    "print(safes)"
   ]
  },
  {
   "cell_type": "markdown",
   "id": "4614d6f3-8012-45ad-8802-be81588e9cf3",
   "metadata": {},
   "source": [
    "### Part 2 ###"
   ]
  },
  {
   "cell_type": "code",
   "execution_count": 43,
   "id": "f40bffe1-f7b6-480d-a7c6-51038a2402e0",
   "metadata": {},
   "outputs": [],
   "source": [
    "import numpy as np"
   ]
  },
  {
   "cell_type": "code",
   "execution_count": 44,
   "id": "ef3c269e-c343-455d-8473-12dbb962191d",
   "metadata": {},
   "outputs": [
    {
     "name": "stdout",
     "output_type": "stream",
     "text": [
      "674\n"
     ]
    }
   ],
   "source": [
    "safes = 0\n",
    "for d in data:\n",
    "    big_good = False\n",
    "    for i in range(len(d)):\n",
    "        temp_d = d[:i]+d[i+1:]\n",
    "        good=True\n",
    "        if temp_d!=sorted(temp_d) and temp_d!=sorted(temp_d)[::-1]:\n",
    "            good=False\n",
    "        for k in range(len(temp_d)-1):\n",
    "            if abs(temp_d[k+1]-temp_d[k])>3 or abs(temp_d[k+1]-temp_d[k])<1:\n",
    "                good=False\n",
    "        if good:\n",
    "            big_good=True\n",
    "    if big_good:\n",
    "        safes+=1\n",
    "print(safes)"
   ]
  },
  {
   "cell_type": "code",
   "execution_count": null,
   "id": "8794b38a-f92c-40b9-984e-ab76e643645e",
   "metadata": {},
   "outputs": [],
   "source": []
  }
 ],
 "metadata": {
  "kernelspec": {
   "display_name": "Python 3 (ipykernel)",
   "language": "python",
   "name": "python3"
  },
  "language_info": {
   "codemirror_mode": {
    "name": "ipython",
    "version": 3
   },
   "file_extension": ".py",
   "mimetype": "text/x-python",
   "name": "python",
   "nbconvert_exporter": "python",
   "pygments_lexer": "ipython3",
   "version": "3.12.2"
  }
 },
 "nbformat": 4,
 "nbformat_minor": 5
}
